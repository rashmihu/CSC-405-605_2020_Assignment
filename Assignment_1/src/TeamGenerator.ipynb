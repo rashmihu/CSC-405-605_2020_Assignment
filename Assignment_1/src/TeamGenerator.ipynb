{
 "cells": [
  {
   "cell_type": "markdown",
   "metadata": {},
   "source": [
    "# Random Team Generator"
   ]
  },
  {
   "cell_type": "markdown",
   "metadata": {},
   "source": [
    "#### Import random module for creating the randomeness in the selection and csv module to read the input file"
   ]
  },
  {
   "cell_type": "code",
   "execution_count": 1,
   "metadata": {},
   "outputs": [],
   "source": [
    "import random,csv"
   ]
  },
  {
   "cell_type": "markdown",
   "metadata": {},
   "source": [
    "#### The number of teams provided as a variable"
   ]
  },
  {
   "cell_type": "code",
   "execution_count": 2,
   "metadata": {},
   "outputs": [],
   "source": [
    "numberOfTeams=7"
   ]
  },
  {
   "cell_type": "markdown",
   "metadata": {},
   "source": [
    "### Method 1"
   ]
  },
  {
   "cell_type": "markdown",
   "metadata": {},
   "source": [
    "#### Step 1: Read the tsv file into list of dictionaries\n",
    "#### Step 2: Random module will shuffle the students in the list.\n",
    "        random.shuffle(x[, random]): Shuffle the sequence x in place.\n",
    "#### Step 3: Find the length of list,Then split the list into required number of teams \n",
    "##### Forexample: \n",
    "      input List [a,b,c,d,e,f]\n",
    "      Randomly Shuffled list [b,d,c,e,a,f]\n",
    "      Split list based on the number of teams given as an input\n",
    "      Teams generated if the input is 3:\n",
    "      [b,d] [c,e] [a,f]"
   ]
  },
  {
   "cell_type": "code",
   "execution_count": 3,
   "metadata": {},
   "outputs": [
    {
     "data": {
      "text/plain": [
       "[[{'Student': 'Ali Altamimi', 'Hash_id': '-5827033472622716890'},\n",
       "  {'Student': 'Renhua Guo', 'Hash_id': '-6491867970585459806'},\n",
       "  {'Student': 'Francis Perez', 'Hash_id': '7121637218959815285'},\n",
       "  {'Student': 'Tingyu Shi', 'Hash_id': '1130226862592949290'},\n",
       "  {'Student': 'Jamison Valentine', 'Hash_id': '-8010483234696604880'}],\n",
       " [{'Student': 'Ritu Joshi', 'Hash_id': '761861860507827969'},\n",
       "  {'Student': 'Solomon Berhe', 'Hash_id': '-1099123881744416934'},\n",
       "  {'Student': 'Mustafa Dere', 'Hash_id': '5766488569524362599'},\n",
       "  {'Student': 'Sadhana Thummalapenta', 'Hash_id': '-5860314708908377816'},\n",
       "  {'Student': 'Himaja Avula', 'Hash_id': '-1277120681752197621'}],\n",
       " [{'Student': 'Rashmi Hassan Udaya Kumar', 'Hash_id': '8962235084370848197'},\n",
       "  {'Student': 'Raiana Zaman', 'Hash_id': '7742713733844653691'},\n",
       "  {'Student': 'Tyler Wallschleger', 'Hash_id': '-1255795335168677361'},\n",
       "  {'Student': 'Samhitha Kachapuram', 'Hash_id': '-432922863203962415'},\n",
       "  {'Student': 'Serena Wisnewski', 'Hash_id': '4654136525107463358'}],\n",
       " [{'Student': 'Quinn Tjin-a-soe', 'Hash_id': '5111078232283153860'},\n",
       "  {'Student': 'Alex Penaloza', 'Hash_id': '2819579966094765319'},\n",
       "  {'Student': 'Vyankteshprasad Sathe', 'Hash_id': '4125177016738157512'},\n",
       "  {'Student': 'Sanam Khalili', 'Hash_id': '-5958269882118250525'},\n",
       "  {'Student': 'Andrew Kawabata', 'Hash_id': '-2295906907469740116'}],\n",
       " [{'Student': 'Shravya Muttineni', 'Hash_id': '2534912611900926672'},\n",
       "  {'Student': 'Amantii Samson', 'Hash_id': '-2106861634941313976'},\n",
       "  {'Student': 'Peter Yuan', 'Hash_id': '7947615571241282039'},\n",
       "  {'Student': 'Katelynn Urgitus', 'Hash_id': '-949226895385040933'},\n",
       "  {'Student': 'Carrie Stott', 'Hash_id': '2942246989690436998'}],\n",
       " [{'Student': 'Nadia Doudou', 'Hash_id': '-8293841509607106703'},\n",
       "  {'Student': 'Harika Cherukuri', 'Hash_id': '-3305872199329515624'},\n",
       "  {'Student': 'Xinrui Zhang', 'Hash_id': '4758487699251603117'},\n",
       "  {'Student': 'Nikitha Narsing', 'Hash_id': '6496922049150786289'},\n",
       "  {'Student': 'Pragna Tarali Talluri', 'Hash_id': '-5415828377393777804'}],\n",
       " [{'Student': 'Isaac Taylor', 'Hash_id': '1411583132783385946'},\n",
       "  {'Student': 'Amulya Yadagani', 'Hash_id': '3578090679313790194'},\n",
       "  {'Student': 'Jason Manning', 'Hash_id': '6729191785026611246'},\n",
       "  {'Student': 'Christopher Brantley', 'Hash_id': '-695993714492741554'},\n",
       "  {'Student': 'Harinderveer Badesha', 'Hash_id': '-2070052029797912257'}]]"
      ]
     },
     "execution_count": 3,
     "metadata": {},
     "output_type": "execute_result"
    }
   ],
   "source": [
    "\"\"\"\n",
    "Random Team generator using random.shuffle\n",
    "\"\"\"\n",
    "#Step1\n",
    "studentDictList = list(csv.DictReader(open('../data/fall-20-students.tsv'),delimiter='\\t'))\n",
    "#Step2\n",
    "random.shuffle(studentDictList)\n",
    "#Step3\n",
    "[studentDictList[i:i + int(len(studentDictList)/numberOfTeams)] for i in range(0, len(studentDictList), int(len(studentDictList)/numberOfTeams))]"
   ]
  },
  {
   "cell_type": "markdown",
   "metadata": {},
   "source": [
    "### Method 2"
   ]
  },
  {
   "cell_type": "markdown",
   "metadata": {},
   "source": [
    "#### Read the tsv file into list of dictionaries\n",
    "#### Find the length of the list\n",
    "####   random.sample(population, k)\n",
    "    Return a k length list of unique elements chosen from the population sequence or set. Used for random sampling without replacement.\n",
    "#### Iteratively use the list maipulation to divide the students into required number of teams "
   ]
  },
  {
   "cell_type": "code",
   "execution_count": 4,
   "metadata": {},
   "outputs": [
    {
     "data": {
      "text/plain": [
       "[[{'Student': 'Vyankteshprasad Sathe', 'Hash_id': '4125177016738157512'},\n",
       "  {'Student': 'Xinrui Zhang', 'Hash_id': '4758487699251603117'},\n",
       "  {'Student': 'Christopher Brantley', 'Hash_id': '-695993714492741554'},\n",
       "  {'Student': 'Sadhana Thummalapenta', 'Hash_id': '-5860314708908377816'},\n",
       "  {'Student': 'Solomon Berhe', 'Hash_id': '-1099123881744416934'}],\n",
       " [{'Student': 'Carrie Stott', 'Hash_id': '2942246989690436998'},\n",
       "  {'Student': 'Xinrui Zhang', 'Hash_id': '4758487699251603117'},\n",
       "  {'Student': 'Sanam Khalili', 'Hash_id': '-5958269882118250525'},\n",
       "  {'Student': 'Shravya Muttineni', 'Hash_id': '2534912611900926672'},\n",
       "  {'Student': 'Ali Altamimi', 'Hash_id': '-5827033472622716890'}],\n",
       " [{'Student': 'Pragna Tarali Talluri', 'Hash_id': '-5415828377393777804'},\n",
       "  {'Student': 'Shravya Muttineni', 'Hash_id': '2534912611900926672'},\n",
       "  {'Student': 'Alex Penaloza', 'Hash_id': '2819579966094765319'},\n",
       "  {'Student': 'Isaac Taylor', 'Hash_id': '1411583132783385946'},\n",
       "  {'Student': 'Jamison Valentine', 'Hash_id': '-8010483234696604880'}],\n",
       " [{'Student': 'Amantii Samson', 'Hash_id': '-2106861634941313976'},\n",
       "  {'Student': 'Quinn Tjin-a-soe', 'Hash_id': '5111078232283153860'},\n",
       "  {'Student': 'Ritu Joshi', 'Hash_id': '761861860507827969'},\n",
       "  {'Student': 'Nadia Doudou', 'Hash_id': '-8293841509607106703'},\n",
       "  {'Student': 'Peter Yuan', 'Hash_id': '7947615571241282039'}],\n",
       " [{'Student': 'Sadhana Thummalapenta', 'Hash_id': '-5860314708908377816'},\n",
       "  {'Student': 'Nadia Doudou', 'Hash_id': '-8293841509607106703'},\n",
       "  {'Student': 'Alex Penaloza', 'Hash_id': '2819579966094765319'},\n",
       "  {'Student': 'Harika Cherukuri', 'Hash_id': '-3305872199329515624'},\n",
       "  {'Student': 'Samhitha Kachapuram', 'Hash_id': '-432922863203962415'}],\n",
       " [{'Student': 'Andrew Kawabata', 'Hash_id': '-2295906907469740116'},\n",
       "  {'Student': 'Quinn Tjin-a-soe', 'Hash_id': '5111078232283153860'},\n",
       "  {'Student': 'Renhua Guo', 'Hash_id': '-6491867970585459806'},\n",
       "  {'Student': 'Jason Manning', 'Hash_id': '6729191785026611246'},\n",
       "  {'Student': 'Tyler Wallschleger', 'Hash_id': '-1255795335168677361'}],\n",
       " [{'Student': 'Shravya Muttineni', 'Hash_id': '2534912611900926672'},\n",
       "  {'Student': 'Nadia Doudou', 'Hash_id': '-8293841509607106703'},\n",
       "  {'Student': 'Ali Altamimi', 'Hash_id': '-5827033472622716890'},\n",
       "  {'Student': 'Vyankteshprasad Sathe', 'Hash_id': '4125177016738157512'},\n",
       "  {'Student': 'Ritu Joshi', 'Hash_id': '761861860507827969'}]]"
      ]
     },
     "execution_count": 4,
     "metadata": {},
     "output_type": "execute_result"
    }
   ],
   "source": [
    "\"\"\"\n",
    "Random Team generator using random.sample\n",
    "\"\"\"\n",
    "\n",
    "[random.sample(list(csv.DictReader(open('../data/fall-20-students.tsv'),delimiter='\\t')),len(list(csv.DictReader(open('../data/fall-20-students.tsv'),delimiter='\\t'))))[i::numberOfTeams] for i in range(numberOfTeams)]"
   ]
  },
  {
   "cell_type": "code",
   "execution_count": null,
   "metadata": {},
   "outputs": [],
   "source": []
  }
 ],
 "metadata": {
  "kernelspec": {
   "display_name": "Python 3",
   "language": "python",
   "name": "python3"
  },
  "language_info": {
   "codemirror_mode": {
    "name": "ipython",
    "version": 3
   },
   "file_extension": ".py",
   "mimetype": "text/x-python",
   "name": "python",
   "nbconvert_exporter": "python",
   "pygments_lexer": "ipython3",
   "version": "3.8.5"
  }
 },
 "nbformat": 4,
 "nbformat_minor": 4
}
